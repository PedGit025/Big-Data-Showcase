{
 "cells": [
  {
   "cell_type": "code",
   "execution_count": 1,
   "id": "85496656-ec79-471f-b7ec-f978f6427ac5",
   "metadata": {},
   "outputs": [],
   "source": [
    "import requests\n",
    "from bs4 import BeautifulSoup\n",
    "import pandas as pd\n",
    "import pickle\n",
    "import time"
   ]
  },
  {
   "cell_type": "code",
   "execution_count": 2,
   "id": "8dbd3b1b-4777-4739-a629-1dede471af08",
   "metadata": {},
   "outputs": [],
   "source": [
    "BASE_TMDB_URL = 'https://api.themoviedb.org/3'\n",
    "TMDB_API_KEY = 'KEY HERE'"
   ]
  },
  {
   "cell_type": "code",
   "execution_count": 3,
   "id": "d4ef31d0-d91f-40f8-bd67-d78f97d1f220",
   "metadata": {},
   "outputs": [],
   "source": [
    "def fetch_tmdb_reviews(tmdb_id, api_key):\n",
    "    url = f\"{BASE_TMDB_URL}/movie/{tmdb_id}/reviews?api_key={api_key}&language=en-US\"\n",
    "    response = requests.get(url)\n",
    "    reviews = response.json().get('results', [])\n",
    "    review_data = []\n",
    "    for review in reviews:\n",
    "        review_data.append({\n",
    "            'review_date': review.get('created_at'),\n",
    "            'rating_of_movie': review.get('author_details', {}).get('rating'),\n",
    "            'actual_review': review.get('content')\n",
    "        })\n",
    "    return review_data\n",
    "\n",
    "def update_reviews(movies_df, reviews_df):\n",
    "    updated_reviews = []\n",
    "    for index, row in movies_df.iterrows():\n",
    "        tmdb_id = row['movie_code']\n",
    "        imdb_id = row['IMDb_code']\n",
    "        new_reviews = fetch_tmdb_reviews(tmdb_id, TMDB_API_KEY)\n",
    "        \n",
    "        for new_review in new_reviews:\n",
    "            review_date = new_review['review_date']\n",
    "            rating_of_movie = new_review['rating_of_movie']\n",
    "            actual_review = new_review['actual_review']\n",
    "            \n",
    "            existing_reviews = reviews_df[(reviews_df['IMDb_code'] == imdb_id) & \n",
    "                                          (reviews_df['review_date'] == review_date)]\n",
    "            \n",
    "            if existing_reviews.empty:\n",
    "                # If no existing review, add a new row\n",
    "                reviews_df = reviews_df.append({\n",
    "                    'IMDb_code': imdb_id,\n",
    "                    'review_date': review_date,\n",
    "                    'rating_of_movie': rating_of_movie,\n",
    "                    'actual_review': actual_review\n",
    "                }, ignore_index=True)\n",
    "                updated_reviews.append((row['Title'], actual_review))\n",
    "                print(f\"Added new review for: {row['Title']}\")\n",
    "            else:\n",
    "                # Updates the data if needed\n",
    "                existing_review = existing_reviews.iloc[0]\n",
    "                if (existing_review['actual_review'] != actual_review):\n",
    "                    reviews_df.loc[existing_reviews.index, 'actual_review'] = actual_review\n",
    "                    updated_reviews.append((row['Title'], actual_review))\n",
    "                    print(f\"Updated review for: {row['Title']}\")\n",
    "            \n",
    "            time.sleep(1)\n",
    "    \n",
    "    # keep log of changes\n",
    "    if updated_reviews:\n",
    "        with open('update_log.txt', 'w') as log_file:\n",
    "            for title, review in updated_reviews:\n",
    "                log_file.write(f\"Updated review for {title}: {review}\\n\")\n",
    "        print(\"Update log saved to update_log.txt\")\n",
    "    else:\n",
    "        print(\"No new reviews found.\")\n",
    "    \n",
    "    return reviews_df, updated_reviews"
   ]
  },
  {
   "cell_type": "code",
   "execution_count": null,
   "id": "6fec4f38-6cf8-4110-84d3-68c0f7129449",
   "metadata": {},
   "outputs": [],
   "source": [
    "movies_df = pd.read_pickle('movies_data.pkl')\n",
    "reviews_df = pd.read_pickle('reviews_data.pkl')\n",
    "    \n",
    "reviews_df, updated_reviews = update_reviews(movies_df, reviews_df)\n",
    "    \n",
    "# Save updated DF, dont forget to upload the updated file for analysis instead of the first iteration\n",
    "reviews_df.to_pickle('updated_reviews_data.pkl')"
   ]
  },
  {
   "cell_type": "code",
   "execution_count": 8,
   "id": "c1b25fdf-0aef-4655-8bf5-5a7a0ad05bb0",
   "metadata": {},
   "outputs": [
    {
     "name": "stdout",
     "output_type": "stream",
     "text": [
      "No new reviews found.\n"
     ]
    }
   ],
   "source": [
    "if __name__ == \"__main__\":\n",
    "    movies_df = pd.read_pickle('movies_data.pkl')\n",
    "    reviews_df = pd.read_pickle('reviews_data.pkl')\n",
    "    \n",
    "    reviews_df, updated_reviews = update_reviews(movies_df, reviews_df)\n",
    "    \n",
    "    reviews_df.to_pickle('updated_reviews_data.pkl')"
   ]
  }
 ],
 "metadata": {
  "kernelspec": {
   "display_name": "Python 3 (ipykernel)",
   "language": "python",
   "name": "python3"
  },
  "language_info": {
   "codemirror_mode": {
    "name": "ipython",
    "version": 3
   },
   "file_extension": ".py",
   "mimetype": "text/x-python",
   "name": "python",
   "nbconvert_exporter": "python",
   "pygments_lexer": "ipython3",
   "version": "3.11.7"
  }
 },
 "nbformat": 4,
 "nbformat_minor": 5
}
