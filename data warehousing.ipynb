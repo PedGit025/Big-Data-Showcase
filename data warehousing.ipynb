{
 "cells": [
  {
   "cell_type": "code",
   "execution_count": 1,
   "id": "dabf8090-a5af-4090-bbd9-1817ae3ae3aa",
   "metadata": {
    "id": "dabf8090-a5af-4090-bbd9-1817ae3ae3aa"
   },
   "outputs": [],
   "source": [
    "import pickle as pkl\n",
    "import pandas as pd\n",
    "from nltk.corpus import stopwords\n",
    "import nltk\n",
    "import re\n",
    "from collections import Counter\n"
   ]
  },
  {
   "cell_type": "code",
   "execution_count": 3,
   "id": "7NFrJgMbCYRn",
   "metadata": {
    "colab": {
     "base_uri": "https://localhost:8080/"
    },
    "id": "7NFrJgMbCYRn",
    "outputId": "56ebf1fd-387a-46b5-b4d3-d20ddb4246e6"
   },
   "outputs": [
    {
     "name": "stdout",
     "output_type": "stream",
     "text": [
      "Drive already mounted at /content/drive; to attempt to forcibly remount, call drive.mount(\"/content/drive\", force_remount=True).\n"
     ]
    }
   ],
   "source": [
    "#from google.colab import drive\n",
    "#drive.mount('/content/drive')"
   ]
  },
  {
   "cell_type": "code",
   "execution_count": 2,
   "id": "65ccc635-5dc2-4b87-9821-19edd2426984",
   "metadata": {
    "id": "65ccc635-5dc2-4b87-9821-19edd2426984"
   },
   "outputs": [],
   "source": [
    "#load data set to df\n",
    "with open(\"reviews_data_test1.pkl\", \"rb\") as f:\n",
    "    object = pkl.load(f)\n",
    "reviews_df = pd.DataFrame(object)\n",
    "\n",
    "#load movies data set\n",
    "with open(\"movies_data_test1.pkl\", \"rb\") as f:\n",
    "    object = pkl.load(f)\n",
    "movies_df = pd.DataFrame(object)\n"
   ]
  },
  {
   "cell_type": "markdown",
   "id": "fbfed0df-99a0-4dc1-84a5-811145f1041c",
   "metadata": {
    "id": "fbfed0df-99a0-4dc1-84a5-811145f1041c"
   },
   "source": [
    "# Process movie data set"
   ]
  },
  {
   "cell_type": "code",
   "execution_count": 30,
   "id": "afebdf8e-d420-417a-95ad-4fdf0db06e51",
   "metadata": {
    "id": "afebdf8e-d420-417a-95ad-4fdf0db06e51",
    "scrolled": true
   },
   "outputs": [],
   "source": [
    "movies_df[['year_released','month_released','day_released']] = movies_df['release_date'].str.split('-',expand=True)\n",
    "dimension_table_1 = movies_df.drop(columns=['Year', 'release_date'])\n",
    "\n",
    "\n",
    "\n",
    "dimension_table_1\n",
    "dimension_table_1.to_csv('dimension_table_1_movie_details.csv', index=False)"
   ]
  },
  {
   "cell_type": "code",
   "execution_count": 39,
   "id": "48977e38-8515-4745-9126-7d415a6377bd",
   "metadata": {},
   "outputs": [
    {
     "data": {
      "text/plain": [
       "array(['R'], dtype=object)"
      ]
     },
     "execution_count": 39,
     "metadata": {},
     "output_type": "execute_result"
    }
   ],
   "source": [
    "movies_df.Rating.unique()"
   ]
  },
  {
   "cell_type": "markdown",
   "id": "4e51b490-c0c1-48b8-88a9-3143b2a19674",
   "metadata": {
    "id": "4e51b490-c0c1-48b8-88a9-3143b2a19674"
   },
   "source": [
    "# Process reviews data set"
   ]
  },
  {
   "cell_type": "code",
   "execution_count": 8,
   "id": "3a7aa4ef-1d95-45ab-8f44-7d88bad373db",
   "metadata": {
    "colab": {
     "base_uri": "https://localhost:8080/",
     "height": 791
    },
    "id": "3a7aa4ef-1d95-45ab-8f44-7d88bad373db",
    "outputId": "0f160ad3-f974-488f-e9d8-c07135070384",
    "scrolled": true
   },
   "outputs": [
    {
     "data": {
      "text/html": [
       "<div>\n",
       "<style scoped>\n",
       "    .dataframe tbody tr th:only-of-type {\n",
       "        vertical-align: middle;\n",
       "    }\n",
       "\n",
       "    .dataframe tbody tr th {\n",
       "        vertical-align: top;\n",
       "    }\n",
       "\n",
       "    .dataframe thead th {\n",
       "        text-align: right;\n",
       "    }\n",
       "</style>\n",
       "<table border=\"1\" class=\"dataframe\">\n",
       "  <thead>\n",
       "    <tr style=\"text-align: right;\">\n",
       "      <th></th>\n",
       "      <th>movie_code</th>\n",
       "      <th>IMDb_code</th>\n",
       "      <th>review_date</th>\n",
       "      <th>rating_of_movie</th>\n",
       "      <th>actual_review</th>\n",
       "      <th>year_review</th>\n",
       "      <th>month_review</th>\n",
       "      <th>day_review</th>\n",
       "      <th>review_no_of_words</th>\n",
       "    </tr>\n",
       "  </thead>\n",
       "  <tbody>\n",
       "    <tr>\n",
       "      <th>0</th>\n",
       "      <td>278</td>\n",
       "      <td>tt0111161</td>\n",
       "      <td>2016-04-29T18:08:41.892Z</td>\n",
       "      <td>9.0</td>\n",
       "      <td>very good movie 9.5/10 محمد الشعراوى</td>\n",
       "      <td>2016</td>\n",
       "      <td>04</td>\n",
       "      <td>29</td>\n",
       "      <td>6</td>\n",
       "    </tr>\n",
       "    <tr>\n",
       "      <th>1</th>\n",
       "      <td>278</td>\n",
       "      <td>tt0111161</td>\n",
       "      <td>2016-07-10T00:16:50.561Z</td>\n",
       "      <td>10.0</td>\n",
       "      <td>Some birds aren't meant to be caged.\\r\\n\\r\\nTh...</td>\n",
       "      <td>2016</td>\n",
       "      <td>07</td>\n",
       "      <td>10</td>\n",
       "      <td>619</td>\n",
       "    </tr>\n",
       "    <tr>\n",
       "      <th>2</th>\n",
       "      <td>278</td>\n",
       "      <td>tt0111161</td>\n",
       "      <td>2017-11-11T15:09:34.114Z</td>\n",
       "      <td>6.0</td>\n",
       "      <td>Make way for the best film ever made people. *...</td>\n",
       "      <td>2017</td>\n",
       "      <td>11</td>\n",
       "      <td>11</td>\n",
       "      <td>11</td>\n",
       "    </tr>\n",
       "    <tr>\n",
       "      <th>3</th>\n",
       "      <td>278</td>\n",
       "      <td>tt0111161</td>\n",
       "      <td>2018-05-01T05:51:13.756Z</td>\n",
       "      <td>10.0</td>\n",
       "      <td>There is a reason why this movie is at the top...</td>\n",
       "      <td>2018</td>\n",
       "      <td>05</td>\n",
       "      <td>01</td>\n",
       "      <td>62</td>\n",
       "    </tr>\n",
       "    <tr>\n",
       "      <th>4</th>\n",
       "      <td>278</td>\n",
       "      <td>tt0111161</td>\n",
       "      <td>2018-10-18T15:08:48.777Z</td>\n",
       "      <td>NaN</td>\n",
       "      <td>It's still puzzling to me why this movie exact...</td>\n",
       "      <td>2018</td>\n",
       "      <td>10</td>\n",
       "      <td>18</td>\n",
       "      <td>91</td>\n",
       "    </tr>\n",
       "    <tr>\n",
       "      <th>...</th>\n",
       "      <td>...</td>\n",
       "      <td>...</td>\n",
       "      <td>...</td>\n",
       "      <td>...</td>\n",
       "      <td>...</td>\n",
       "      <td>...</td>\n",
       "      <td>...</td>\n",
       "      <td>...</td>\n",
       "      <td>...</td>\n",
       "    </tr>\n",
       "    <tr>\n",
       "      <th>15361</th>\n",
       "      <td>5491</td>\n",
       "      <td>tt0185183</td>\n",
       "      <td>2023-10-08T19:25:04.755Z</td>\n",
       "      <td>6.0</td>\n",
       "      <td>**_The worst sci-fi flick ever made?_**\\r\\n\\r\\...</td>\n",
       "      <td>2023</td>\n",
       "      <td>10</td>\n",
       "      <td>08</td>\n",
       "      <td>499</td>\n",
       "    </tr>\n",
       "    <tr>\n",
       "      <th>15362</th>\n",
       "      <td>13805</td>\n",
       "      <td>tt1213644</td>\n",
       "      <td>2016-08-15T18:24:29.643Z</td>\n",
       "      <td>1.0</td>\n",
       "      <td>Easily the worst film I have ever seen that wa...</td>\n",
       "      <td>2016</td>\n",
       "      <td>08</td>\n",
       "      <td>15</td>\n",
       "      <td>126</td>\n",
       "    </tr>\n",
       "    <tr>\n",
       "      <th>15363</th>\n",
       "      <td>13805</td>\n",
       "      <td>tt1213644</td>\n",
       "      <td>2016-08-15T18:25:43.235Z</td>\n",
       "      <td>1.0</td>\n",
       "      <td>Easily the worst film I have ever seen that wa...</td>\n",
       "      <td>2016</td>\n",
       "      <td>08</td>\n",
       "      <td>15</td>\n",
       "      <td>126</td>\n",
       "    </tr>\n",
       "    <tr>\n",
       "      <th>15364</th>\n",
       "      <td>11059</td>\n",
       "      <td>tt0317676</td>\n",
       "      <td>2017-06-21T07:29:00.836Z</td>\n",
       "      <td>4.0</td>\n",
       "      <td>The dialogue is laughable, the acting is horri...</td>\n",
       "      <td>2017</td>\n",
       "      <td>06</td>\n",
       "      <td>21</td>\n",
       "      <td>52</td>\n",
       "    </tr>\n",
       "    <tr>\n",
       "      <th>15365</th>\n",
       "      <td>40016</td>\n",
       "      <td>tt1316037</td>\n",
       "      <td>2018-06-03T05:23:45.522Z</td>\n",
       "      <td>1.0</td>\n",
       "      <td>The worst movie I have seen in my life.\\r\\n\\r\\...</td>\n",
       "      <td>2018</td>\n",
       "      <td>06</td>\n",
       "      <td>03</td>\n",
       "      <td>27</td>\n",
       "    </tr>\n",
       "  </tbody>\n",
       "</table>\n",
       "<p>15366 rows × 9 columns</p>\n",
       "</div>"
      ],
      "text/plain": [
       "       movie_code  IMDb_code               review_date  rating_of_movie  \\\n",
       "0             278  tt0111161  2016-04-29T18:08:41.892Z              9.0   \n",
       "1             278  tt0111161  2016-07-10T00:16:50.561Z             10.0   \n",
       "2             278  tt0111161  2017-11-11T15:09:34.114Z              6.0   \n",
       "3             278  tt0111161  2018-05-01T05:51:13.756Z             10.0   \n",
       "4             278  tt0111161  2018-10-18T15:08:48.777Z              NaN   \n",
       "...           ...        ...                       ...              ...   \n",
       "15361        5491  tt0185183  2023-10-08T19:25:04.755Z              6.0   \n",
       "15362       13805  tt1213644  2016-08-15T18:24:29.643Z              1.0   \n",
       "15363       13805  tt1213644  2016-08-15T18:25:43.235Z              1.0   \n",
       "15364       11059  tt0317676  2017-06-21T07:29:00.836Z              4.0   \n",
       "15365       40016  tt1316037  2018-06-03T05:23:45.522Z              1.0   \n",
       "\n",
       "                                           actual_review year_review  \\\n",
       "0                   very good movie 9.5/10 محمد الشعراوى        2016   \n",
       "1      Some birds aren't meant to be caged.\\r\\n\\r\\nTh...        2016   \n",
       "2      Make way for the best film ever made people. *...        2017   \n",
       "3      There is a reason why this movie is at the top...        2018   \n",
       "4      It's still puzzling to me why this movie exact...        2018   \n",
       "...                                                  ...         ...   \n",
       "15361  **_The worst sci-fi flick ever made?_**\\r\\n\\r\\...        2023   \n",
       "15362  Easily the worst film I have ever seen that wa...        2016   \n",
       "15363  Easily the worst film I have ever seen that wa...        2016   \n",
       "15364  The dialogue is laughable, the acting is horri...        2017   \n",
       "15365  The worst movie I have seen in my life.\\r\\n\\r\\...        2018   \n",
       "\n",
       "      month_review day_review  review_no_of_words  \n",
       "0               04         29                   6  \n",
       "1               07         10                 619  \n",
       "2               11         11                  11  \n",
       "3               05         01                  62  \n",
       "4               10         18                  91  \n",
       "...            ...        ...                 ...  \n",
       "15361           10         08                 499  \n",
       "15362           08         15                 126  \n",
       "15363           08         15                 126  \n",
       "15364           06         21                  52  \n",
       "15365           06         03                  27  \n",
       "\n",
       "[15366 rows x 9 columns]"
      ]
     },
     "execution_count": 8,
     "metadata": {},
     "output_type": "execute_result"
    }
   ],
   "source": [
    "#Expand date data and count number of words\n",
    "reviews_df[['year_review','month_review','day_review']] = reviews_df['review_date'].str.strip().str[:10].str.split('-',expand=True)\n",
    "reviews_df['review_no_of_words'] = reviews_df['actual_review'].apply(lambda x: x.count(' ')+1)\n",
    "reviews_df\n"
   ]
  },
  {
   "cell_type": "code",
   "execution_count": 10,
   "id": "8c6528c5-e6a3-4551-883f-f01c33b7bad8",
   "metadata": {},
   "outputs": [
    {
     "data": {
      "text/plain": [
       "Index(['movie_code', 'Title', 'Year', 'Revenue', 'Budget', 'Runtime',\n",
       "       'Opening_weekend_US', 'Rating', 'Production_company', 'Genre',\n",
       "       'IMDb_code', 'release_date', 'year_released', 'month_released',\n",
       "       'day_released'],\n",
       "      dtype='object')"
      ]
     },
     "execution_count": 10,
     "metadata": {},
     "output_type": "execute_result"
    }
   ],
   "source": [
    "dimension_table_1.columns"
   ]
  },
  {
   "cell_type": "code",
   "execution_count": 23,
   "id": "ac4bb7ab-2994-4ff2-9ed3-d522ec443216",
   "metadata": {
    "colab": {
     "base_uri": "https://localhost:8080/",
     "height": 990
    },
    "id": "ac4bb7ab-2994-4ff2-9ed3-d522ec443216",
    "outputId": "3f5f5575-3a18-491f-e492-086076fa7f14"
   },
   "outputs": [],
   "source": [
    "#Groupby year,month,day,movie code,imdb code,ratings\n",
    "#agg by average number of vords, count of reviews\n",
    "\n",
    "fact_table_1  = reviews_df.groupby([\"IMDb_code\",\"movie_code\",\"year_review\",\"month_review\",\"day_review\",\"rating_of_movie\"],as_index=False).agg(\n",
    "    ave_review_len=pd.NamedAgg(column=\"review_no_of_words\", aggfunc=\"mean\"),\n",
    "    review_count=pd.NamedAgg(column=\"actual_review\", aggfunc=\"count\")\n",
    ")\n",
    "selected_dim = dimension_table_1[[\"Title\",\"IMDb_code\",\"movie_code\",'Revenue', 'Budget', 'Runtime','Opening_weekend_US', 'Rating']]\n",
    "\n",
    "fact_table_1 = pd.merge(fact_table_1, selected_dim, on=[\"IMDb_code\",\"movie_code\"], how='left')\n",
    "fact_table_1\n",
    "fact_table_1.to_csv('fact_table_1_movie_stat.csv', index=False)"
   ]
  },
  {
   "cell_type": "code",
   "execution_count": 33,
   "id": "86a35723-d01a-4f72-b03c-5576bd6f5053",
   "metadata": {},
   "outputs": [
    {
     "data": {
      "text/plain": [
       "IMDb_code              object\n",
       "movie_code             object\n",
       "reviewer_score         object\n",
       "review_date_conso      object\n",
       "actual_review_conso    object\n",
       "dtype: object"
      ]
     },
     "execution_count": 33,
     "metadata": {},
     "output_type": "execute_result"
    }
   ],
   "source": [
    "fact_table_2.dtypes"
   ]
  },
  {
   "cell_type": "markdown",
   "id": "t6nGc9elFey4",
   "metadata": {
    "id": "t6nGc9elFey4"
   },
   "source": [
    "# Remove stopwords"
   ]
  },
  {
   "cell_type": "code",
   "execution_count": 24,
   "id": "9a0d4e12-65db-4091-80cf-6c7156fd80e1",
   "metadata": {
    "colab": {
     "base_uri": "https://localhost:8080/"
    },
    "id": "9a0d4e12-65db-4091-80cf-6c7156fd80e1",
    "outputId": "776df11f-4c36-4e2e-e9f4-fc6f25af12e7"
   },
   "outputs": [
    {
     "name": "stderr",
     "output_type": "stream",
     "text": [
      "[nltk_data] Downloading package stopwords to\n",
      "[nltk_data]     C:\\Users\\gerald\\AppData\\Roaming\\nltk_data...\n",
      "[nltk_data]   Unzipping corpora\\stopwords.zip.\n"
     ]
    },
    {
     "data": {
      "text/plain": [
       "True"
      ]
     },
     "execution_count": 24,
     "metadata": {},
     "output_type": "execute_result"
    }
   ],
   "source": [
    "nltk.download('stopwords')\n"
   ]
  },
  {
   "cell_type": "code",
   "execution_count": 25,
   "id": "db029971-6527-4aed-8eb6-c3c29d9a8f0d",
   "metadata": {
    "colab": {
     "base_uri": "https://localhost:8080/",
     "height": 840
    },
    "id": "db029971-6527-4aed-8eb6-c3c29d9a8f0d",
    "outputId": "6376fec7-5890-46f9-f8ed-b721c6276f7c",
    "scrolled": true
   },
   "outputs": [
    {
     "data": {
      "text/html": [
       "<div>\n",
       "<style scoped>\n",
       "    .dataframe tbody tr th:only-of-type {\n",
       "        vertical-align: middle;\n",
       "    }\n",
       "\n",
       "    .dataframe tbody tr th {\n",
       "        vertical-align: top;\n",
       "    }\n",
       "\n",
       "    .dataframe thead th {\n",
       "        text-align: right;\n",
       "    }\n",
       "</style>\n",
       "<table border=\"1\" class=\"dataframe\">\n",
       "  <thead>\n",
       "    <tr style=\"text-align: right;\">\n",
       "      <th></th>\n",
       "      <th>movie_code</th>\n",
       "      <th>IMDb_code</th>\n",
       "      <th>review_date</th>\n",
       "      <th>rating_of_movie</th>\n",
       "      <th>actual_review</th>\n",
       "      <th>year_review</th>\n",
       "      <th>month_review</th>\n",
       "      <th>day_review</th>\n",
       "      <th>review_no_of_words</th>\n",
       "    </tr>\n",
       "  </thead>\n",
       "  <tbody>\n",
       "    <tr>\n",
       "      <th>0</th>\n",
       "      <td>278</td>\n",
       "      <td>tt0111161</td>\n",
       "      <td>2016-04-29T18:08:41.892Z</td>\n",
       "      <td>9.0</td>\n",
       "      <td>good movie 9510 محمد الشعراوى</td>\n",
       "      <td>2016</td>\n",
       "      <td>04</td>\n",
       "      <td>29</td>\n",
       "      <td>6</td>\n",
       "    </tr>\n",
       "    <tr>\n",
       "      <th>1</th>\n",
       "      <td>278</td>\n",
       "      <td>tt0111161</td>\n",
       "      <td>2016-07-10T00:16:50.561Z</td>\n",
       "      <td>10.0</td>\n",
       "      <td>birds arent meant caged Shawshank Redemption w...</td>\n",
       "      <td>2016</td>\n",
       "      <td>07</td>\n",
       "      <td>10</td>\n",
       "      <td>619</td>\n",
       "    </tr>\n",
       "    <tr>\n",
       "      <th>2</th>\n",
       "      <td>278</td>\n",
       "      <td>tt0111161</td>\n",
       "      <td>2017-11-11T15:09:34.114Z</td>\n",
       "      <td>6.0</td>\n",
       "      <td>Make way best film ever made people Make way</td>\n",
       "      <td>2017</td>\n",
       "      <td>11</td>\n",
       "      <td>11</td>\n",
       "      <td>11</td>\n",
       "    </tr>\n",
       "    <tr>\n",
       "      <th>3</th>\n",
       "      <td>278</td>\n",
       "      <td>tt0111161</td>\n",
       "      <td>2018-05-01T05:51:13.756Z</td>\n",
       "      <td>10.0</td>\n",
       "      <td>reason movie top popular list find strong perf...</td>\n",
       "      <td>2018</td>\n",
       "      <td>05</td>\n",
       "      <td>01</td>\n",
       "      <td>62</td>\n",
       "    </tr>\n",
       "    <tr>\n",
       "      <th>4</th>\n",
       "      <td>278</td>\n",
       "      <td>tt0111161</td>\n",
       "      <td>2018-10-18T15:08:48.777Z</td>\n",
       "      <td>NaN</td>\n",
       "      <td>still puzzling movie exactly continues appear ...</td>\n",
       "      <td>2018</td>\n",
       "      <td>10</td>\n",
       "      <td>18</td>\n",
       "      <td>91</td>\n",
       "    </tr>\n",
       "    <tr>\n",
       "      <th>...</th>\n",
       "      <td>...</td>\n",
       "      <td>...</td>\n",
       "      <td>...</td>\n",
       "      <td>...</td>\n",
       "      <td>...</td>\n",
       "      <td>...</td>\n",
       "      <td>...</td>\n",
       "      <td>...</td>\n",
       "      <td>...</td>\n",
       "    </tr>\n",
       "    <tr>\n",
       "      <th>15361</th>\n",
       "      <td>5491</td>\n",
       "      <td>tt0185183</td>\n",
       "      <td>2023-10-08T19:25:04.755Z</td>\n",
       "      <td>6.0</td>\n",
       "      <td>_The worst scifi flick ever made_ thousand yea...</td>\n",
       "      <td>2023</td>\n",
       "      <td>10</td>\n",
       "      <td>08</td>\n",
       "      <td>499</td>\n",
       "    </tr>\n",
       "    <tr>\n",
       "      <th>15362</th>\n",
       "      <td>13805</td>\n",
       "      <td>tt1213644</td>\n",
       "      <td>2016-08-15T18:24:29.643Z</td>\n",
       "      <td>1.0</td>\n",
       "      <td>Easily worst film ever seen wasnt helmed femal...</td>\n",
       "      <td>2016</td>\n",
       "      <td>08</td>\n",
       "      <td>15</td>\n",
       "      <td>126</td>\n",
       "    </tr>\n",
       "    <tr>\n",
       "      <th>15363</th>\n",
       "      <td>13805</td>\n",
       "      <td>tt1213644</td>\n",
       "      <td>2016-08-15T18:25:43.235Z</td>\n",
       "      <td>1.0</td>\n",
       "      <td>Easily worst film ever seen wasnt helmed femal...</td>\n",
       "      <td>2016</td>\n",
       "      <td>08</td>\n",
       "      <td>15</td>\n",
       "      <td>126</td>\n",
       "    </tr>\n",
       "    <tr>\n",
       "      <th>15364</th>\n",
       "      <td>11059</td>\n",
       "      <td>tt0317676</td>\n",
       "      <td>2017-06-21T07:29:00.836Z</td>\n",
       "      <td>4.0</td>\n",
       "      <td>dialogue laughable acting horrible thing worse...</td>\n",
       "      <td>2017</td>\n",
       "      <td>06</td>\n",
       "      <td>21</td>\n",
       "      <td>52</td>\n",
       "    </tr>\n",
       "    <tr>\n",
       "      <th>15365</th>\n",
       "      <td>40016</td>\n",
       "      <td>tt1316037</td>\n",
       "      <td>2018-06-03T05:23:45.522Z</td>\n",
       "      <td>1.0</td>\n",
       "      <td>worst movie seen life Everything ridiculous Te...</td>\n",
       "      <td>2018</td>\n",
       "      <td>06</td>\n",
       "      <td>03</td>\n",
       "      <td>27</td>\n",
       "    </tr>\n",
       "  </tbody>\n",
       "</table>\n",
       "<p>15366 rows × 9 columns</p>\n",
       "</div>"
      ],
      "text/plain": [
       "       movie_code  IMDb_code               review_date  rating_of_movie  \\\n",
       "0             278  tt0111161  2016-04-29T18:08:41.892Z              9.0   \n",
       "1             278  tt0111161  2016-07-10T00:16:50.561Z             10.0   \n",
       "2             278  tt0111161  2017-11-11T15:09:34.114Z              6.0   \n",
       "3             278  tt0111161  2018-05-01T05:51:13.756Z             10.0   \n",
       "4             278  tt0111161  2018-10-18T15:08:48.777Z              NaN   \n",
       "...           ...        ...                       ...              ...   \n",
       "15361        5491  tt0185183  2023-10-08T19:25:04.755Z              6.0   \n",
       "15362       13805  tt1213644  2016-08-15T18:24:29.643Z              1.0   \n",
       "15363       13805  tt1213644  2016-08-15T18:25:43.235Z              1.0   \n",
       "15364       11059  tt0317676  2017-06-21T07:29:00.836Z              4.0   \n",
       "15365       40016  tt1316037  2018-06-03T05:23:45.522Z              1.0   \n",
       "\n",
       "                                           actual_review year_review  \\\n",
       "0                          good movie 9510 محمد الشعراوى        2016   \n",
       "1      birds arent meant caged Shawshank Redemption w...        2016   \n",
       "2           Make way best film ever made people Make way        2017   \n",
       "3      reason movie top popular list find strong perf...        2018   \n",
       "4      still puzzling movie exactly continues appear ...        2018   \n",
       "...                                                  ...         ...   \n",
       "15361  _The worst scifi flick ever made_ thousand yea...        2023   \n",
       "15362  Easily worst film ever seen wasnt helmed femal...        2016   \n",
       "15363  Easily worst film ever seen wasnt helmed femal...        2016   \n",
       "15364  dialogue laughable acting horrible thing worse...        2017   \n",
       "15365  worst movie seen life Everything ridiculous Te...        2018   \n",
       "\n",
       "      month_review day_review  review_no_of_words  \n",
       "0               04         29                   6  \n",
       "1               07         10                 619  \n",
       "2               11         11                  11  \n",
       "3               05         01                  62  \n",
       "4               10         18                  91  \n",
       "...            ...        ...                 ...  \n",
       "15361           10         08                 499  \n",
       "15362           08         15                 126  \n",
       "15363           08         15                 126  \n",
       "15364           06         21                  52  \n",
       "15365           06         03                  27  \n",
       "\n",
       "[15366 rows x 9 columns]"
      ]
     },
     "execution_count": 25,
     "metadata": {},
     "output_type": "execute_result"
    }
   ],
   "source": [
    "# Remove stopwords from the 'Review' column\n",
    "stop_words = set(stopwords.words('english'))\n",
    "reviews_df['actual_review'] = reviews_df['actual_review'].apply(lambda x: ' '.join([word for word in re.sub(r'[^\\w\\s]', '', str(x)).split() if word.lower() not in stop_words]))\n",
    "reviews_df"
   ]
  },
  {
   "cell_type": "code",
   "execution_count": 27,
   "id": "oa3JeaiuMI2R",
   "metadata": {
    "colab": {
     "base_uri": "https://localhost:8080/",
     "height": 424
    },
    "id": "oa3JeaiuMI2R",
    "outputId": "95b47a09-c15d-46ff-82ae-7d03f354ce21"
   },
   "outputs": [
    {
     "data": {
      "text/html": [
       "<div>\n",
       "<style scoped>\n",
       "    .dataframe tbody tr th:only-of-type {\n",
       "        vertical-align: middle;\n",
       "    }\n",
       "\n",
       "    .dataframe tbody tr th {\n",
       "        vertical-align: top;\n",
       "    }\n",
       "\n",
       "    .dataframe thead th {\n",
       "        text-align: right;\n",
       "    }\n",
       "</style>\n",
       "<table border=\"1\" class=\"dataframe\">\n",
       "  <thead>\n",
       "    <tr style=\"text-align: right;\">\n",
       "      <th></th>\n",
       "      <th>IMDb_code</th>\n",
       "      <th>movie_code</th>\n",
       "      <th>reviewer_score</th>\n",
       "      <th>review_date_conso</th>\n",
       "      <th>actual_review_conso</th>\n",
       "    </tr>\n",
       "  </thead>\n",
       "  <tbody>\n",
       "    <tr>\n",
       "      <th>0</th>\n",
       "      <td>tt0000417</td>\n",
       "      <td>775</td>\n",
       "      <td>5.0</td>\n",
       "      <td>2019-08-25T10:43:45.549Z</td>\n",
       "      <td>knew gonna high score letterboxd Yo important ...</td>\n",
       "    </tr>\n",
       "    <tr>\n",
       "      <th>1</th>\n",
       "      <td>tt0000417</td>\n",
       "      <td>775</td>\n",
       "      <td>7.0</td>\n",
       "      <td>2021-02-23T04:46:19.141Z | 2022-08-29T12:16:56...</td>\n",
       "      <td>_A Trip Moon_ 1902 initially titled French _Le...</td>\n",
       "    </tr>\n",
       "    <tr>\n",
       "      <th>2</th>\n",
       "      <td>tt0000439</td>\n",
       "      <td>5698</td>\n",
       "      <td>6.0</td>\n",
       "      <td>2023-10-28T12:57:35.590Z</td>\n",
       "      <td>Firstly feel honoured first write review prest...</td>\n",
       "    </tr>\n",
       "    <tr>\n",
       "      <th>3</th>\n",
       "      <td>tt0000439</td>\n",
       "      <td>5698</td>\n",
       "      <td>7.0</td>\n",
       "      <td>2024-06-30T18:44:19.500Z</td>\n",
       "      <td>opens quite menacing scene Justus Barnes point...</td>\n",
       "    </tr>\n",
       "    <tr>\n",
       "      <th>4</th>\n",
       "      <td>tt0004972</td>\n",
       "      <td>618</td>\n",
       "      <td>10.0</td>\n",
       "      <td>2018-03-03T09:27:30.845Z</td>\n",
       "      <td>achieved known man ever achieved watch work li...</td>\n",
       "    </tr>\n",
       "    <tr>\n",
       "      <th>...</th>\n",
       "      <td>...</td>\n",
       "      <td>...</td>\n",
       "      <td>...</td>\n",
       "      <td>...</td>\n",
       "      <td>...</td>\n",
       "    </tr>\n",
       "    <tr>\n",
       "      <th>12094</th>\n",
       "      <td>tt9866072</td>\n",
       "      <td>615665</td>\n",
       "      <td>7.0</td>\n",
       "      <td>2020-11-06T18:00:08.262Z | 2020-12-17T15:12:29...</td>\n",
       "      <td>Really good watch would watch recommend odd ja...</td>\n",
       "    </tr>\n",
       "    <tr>\n",
       "      <th>12095</th>\n",
       "      <td>tt9873892</td>\n",
       "      <td>736769</td>\n",
       "      <td>5.0</td>\n",
       "      <td>2023-07-23T23:47:08.881Z</td>\n",
       "      <td>drug dealer John Boyega predominantly AfricanA...</td>\n",
       "    </tr>\n",
       "    <tr>\n",
       "      <th>12096</th>\n",
       "      <td>tt9893250</td>\n",
       "      <td>601666</td>\n",
       "      <td>6.0</td>\n",
       "      <td>2022-03-28T20:34:15.320Z</td>\n",
       "      <td>Could really happen Marla Grayson Rosamund Pik...</td>\n",
       "    </tr>\n",
       "    <tr>\n",
       "      <th>12097</th>\n",
       "      <td>tt9893250</td>\n",
       "      <td>601666</td>\n",
       "      <td>8.0</td>\n",
       "      <td>2021-02-15T19:57:00.255Z</td>\n",
       "      <td>enjoy reading SpoilerFree reviews please follo...</td>\n",
       "    </tr>\n",
       "    <tr>\n",
       "      <th>12098</th>\n",
       "      <td>tt9898858</td>\n",
       "      <td>615177</td>\n",
       "      <td>3.0</td>\n",
       "      <td>2022-03-28T10:21:45.315Z</td>\n",
       "      <td>foul mouthed 12 year old black kid Kareem disc...</td>\n",
       "    </tr>\n",
       "  </tbody>\n",
       "</table>\n",
       "<p>12099 rows × 5 columns</p>\n",
       "</div>"
      ],
      "text/plain": [
       "       IMDb_code movie_code reviewer_score  \\\n",
       "0      tt0000417        775            5.0   \n",
       "1      tt0000417        775            7.0   \n",
       "2      tt0000439       5698            6.0   \n",
       "3      tt0000439       5698            7.0   \n",
       "4      tt0004972        618           10.0   \n",
       "...          ...        ...            ...   \n",
       "12094  tt9866072     615665            7.0   \n",
       "12095  tt9873892     736769            5.0   \n",
       "12096  tt9893250     601666            6.0   \n",
       "12097  tt9893250     601666            8.0   \n",
       "12098  tt9898858     615177            3.0   \n",
       "\n",
       "                                       review_date_conso  \\\n",
       "0                               2019-08-25T10:43:45.549Z   \n",
       "1      2021-02-23T04:46:19.141Z | 2022-08-29T12:16:56...   \n",
       "2                               2023-10-28T12:57:35.590Z   \n",
       "3                               2024-06-30T18:44:19.500Z   \n",
       "4                               2018-03-03T09:27:30.845Z   \n",
       "...                                                  ...   \n",
       "12094  2020-11-06T18:00:08.262Z | 2020-12-17T15:12:29...   \n",
       "12095                           2023-07-23T23:47:08.881Z   \n",
       "12096                           2022-03-28T20:34:15.320Z   \n",
       "12097                           2021-02-15T19:57:00.255Z   \n",
       "12098                           2022-03-28T10:21:45.315Z   \n",
       "\n",
       "                                     actual_review_conso  \n",
       "0      knew gonna high score letterboxd Yo important ...  \n",
       "1      _A Trip Moon_ 1902 initially titled French _Le...  \n",
       "2      Firstly feel honoured first write review prest...  \n",
       "3      opens quite menacing scene Justus Barnes point...  \n",
       "4      achieved known man ever achieved watch work li...  \n",
       "...                                                  ...  \n",
       "12094  Really good watch would watch recommend odd ja...  \n",
       "12095  drug dealer John Boyega predominantly AfricanA...  \n",
       "12096  Could really happen Marla Grayson Rosamund Pik...  \n",
       "12097  enjoy reading SpoilerFree reviews please follo...  \n",
       "12098  foul mouthed 12 year old black kid Kareem disc...  \n",
       "\n",
       "[12099 rows x 5 columns]"
      ]
     },
     "execution_count": 27,
     "metadata": {},
     "output_type": "execute_result"
    }
   ],
   "source": [
    "# concatenate the string\n",
    "\n",
    "\n",
    "fact_table_2 = reviews_df\n",
    "fact_table_2= reviews_df.astype(str).groupby([\"IMDb_code\",\"movie_code\",\"rating_of_movie\"],as_index=False).agg(\n",
    "                                              lambda x: ' | '.join(x))\n",
    "\n",
    "\n",
    "\n",
    "# drop duplicate data\n",
    "fact_table_2 = fact_table_2.drop_duplicates()[['IMDb_code',\t'movie_code',\t'rating_of_movie',\t'review_date',\t'actual_review'] ]\n",
    "\n",
    "fact_table_2= fact_table_2.rename(columns={'rating_of_movie':'reviewer_score',\t'review_date':'review_date_conso',\t'actual_review':'actual_review_conso'})\n",
    "\n",
    "\n",
    "# show the dataframe\n",
    "fact_table_2.to_csv('fact_table_2_review_conso.csv', index=False)\n",
    "fact_table_2"
   ]
  },
  {
   "cell_type": "code",
   "execution_count": 18,
   "id": "l84annEjSnYp",
   "metadata": {
    "colab": {
     "base_uri": "https://localhost:8080/"
    },
    "id": "l84annEjSnYp",
    "outputId": "1dc1bd5c-dde4-49d3-fae3-9f92027cabb6"
   },
   "outputs": [
    {
     "data": {
      "text/plain": [
       "array(['Interesting much movies done back 1927 relationships men women understood | Wow Friedrich Murnau really pull stops gorgeously complex beautiful story entirely based human character flaws ordinarily might make one squirm None characters actually names George OBrien contentedly married Janet Gaynor living farm young child One day happens upon visiting Margaret Livingstone urban sophisticate soon captivated Conscious duty wife reluctant join big city rather malevolently suggests wife fake boating accident drowns survives Disgracefully agrees couple set trip tries push overboard bottles flees terror city finally catches craves forgiveness Luckily agrees couple spend charming day together experiencing luxuries metropolis offer caught mother storms head home end day Try might though cannot put memory woman behind thoughts take much darker turn story basically tale good vs evil temptation sin always presented clear cut scenario Despite thoroughly odious selfish man didnt hate OBriens character weak fickle temptress Livingstone isnt hateful either human nature makes us tick warts photography super especially salon pampered seduced storm sequence end also effective 1927 silent films learned art condensing stories done really well film pace doesnt linger long really joy watch'],\n",
       "      dtype=object)"
      ]
     },
     "execution_count": 18,
     "metadata": {},
     "output_type": "execute_result"
    }
   ],
   "source": [
    "fact_table_2.loc[fact_table_2['IMDb_code']=='tt0018455']['actual_review'].values"
   ]
  },
  {
   "cell_type": "code",
   "execution_count": null,
   "id": "CPpeO2XHl5U3",
   "metadata": {
    "id": "CPpeO2XHl5U3"
   },
   "outputs": [],
   "source": []
  }
 ],
 "metadata": {
  "colab": {
   "provenance": []
  },
  "kernelspec": {
   "display_name": "Python 3 (ipykernel)",
   "language": "python",
   "name": "python3"
  },
  "language_info": {
   "codemirror_mode": {
    "name": "ipython",
    "version": 3
   },
   "file_extension": ".py",
   "mimetype": "text/x-python",
   "name": "python",
   "nbconvert_exporter": "python",
   "pygments_lexer": "ipython3",
   "version": "3.12.3"
  }
 },
 "nbformat": 4,
 "nbformat_minor": 5
}
