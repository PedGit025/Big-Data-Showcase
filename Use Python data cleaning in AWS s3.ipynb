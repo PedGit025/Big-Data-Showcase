{
 "cells": [
  {
   "cell_type": "code",
   "execution_count": 1,
   "id": "ba09a3b3-027b-413e-84b5-38239e5d13ab",
   "metadata": {},
   "outputs": [],
   "source": [
    "import pandas as pd\n",
    "import os\n",
    "import numpy as np\n",
    "from nltk.corpus import stopwords\n",
    "import nltk\n",
    "import re"
   ]
  },
  {
   "cell_type": "code",
   "execution_count": 2,
   "id": "0ca36472-01c3-4d56-aad6-1fba00f76045",
   "metadata": {},
   "outputs": [],
   "source": [
    "file_path = r'D:\\Masters\\Big Data\\HW2\\Movie_Reviews_a.csv'\n",
    "df = pd.read_csv(file_path)\n",
    "\n",
    "#nltk.download('stopwords') #dl stop words, remove comments if you dont have it"
   ]
  },
  {
   "cell_type": "code",
   "execution_count": 3,
   "id": "27c9a1d6-bddb-4dd7-ba84-e8f855a1a74c",
   "metadata": {},
   "outputs": [
    {
     "data": {
      "text/plain": [
       "Index(['Rating', 'Review', 'Review_Date', 'Title'], dtype='object')"
      ]
     },
     "execution_count": 3,
     "metadata": {},
     "output_type": "execute_result"
    }
   ],
   "source": [
    "df.columns"
   ]
  },
  {
   "cell_type": "code",
   "execution_count": 7,
   "id": "0d78dd5a-8f89-4d0e-9f00-25c3b944e288",
   "metadata": {},
   "outputs": [],
   "source": [
    "# null values in the 'Rating' column\n",
    "df['Rating'].fillna(0, inplace=True)\n",
    "\n",
    "#blank values in other columns\n",
    "df.replace(r'^\\s*$', np.nan, regex=True, inplace=True)\n",
    "\n",
    "#Remove stopwords from the 'Review' column\n",
    "stop_words = set(stopwords.words('english'))\n",
    "df['Review'] = df['Review'].apply(lambda x: ' '.join([word for word in re.sub(r'[^\\w\\s]', '', str(x)).split() if word.lower() not in stop_words]))\n",
    "\n",
    "df['Title'] = df['Title'].apply(lambda x: ' '.join([word for word in re.sub(r'[^\\w\\s]', '', str(x)).split() if word.lower() not in stop_words]))\n",
    "\n",
    "#path to save the cleaned CSV file\n",
    "cleaned_file_path = r'D:\\Masters\\Big Data\\HW2\\Movie_Reviews_Cleaned.csv'\n",
    "\n",
    "# Save the cleaned DataFrame to a new CSV file\n",
    "df.to_csv(cleaned_file_path, index=False)"
   ]
  },
  {
   "cell_type": "code",
   "execution_count": 8,
   "id": "ab443bd6-a9f3-43a1-9a40-91134e81ed91",
   "metadata": {},
   "outputs": [],
   "source": [
    "file_path = r'D:\\Masters\\Big Data\\HW2\\Movie_Reviews_Cleaned.csv'\n",
    "df = pd.read_csv(file_path)\n",
    "\n",
    "df_shuffled = df.sample(frac=1, random_state=7)\n",
    "\n",
    "#Calculate the number of rows to save (X% of total rows)\n",
    "num_rows_to_save = int(len(df_shuffled) * 0.5)\n",
    "\n",
    "#Select the first X% of shuffled rows\n",
    "df_selected = df_shuffled.head(num_rows_to_save)\n",
    "\n",
    "#path to save the new CSV file\n",
    "new_file_path = r'D:\\Masters\\Big Data\\HW2\\Movie_Reviews_Selected.csv'\n",
    "\n",
    "df_selected.to_csv(new_file_path, index=False)"
   ]
  },
  {
   "cell_type": "code",
   "execution_count": 1,
   "id": "91c78d6a-3979-429a-b694-bcf37b36ee65",
   "metadata": {},
   "outputs": [
    {
     "ename": "NameError",
     "evalue": "name 'pd' is not defined",
     "output_type": "error",
     "traceback": [
      "\u001b[1;31m---------------------------------------------------------------------------\u001b[0m",
      "\u001b[1;31mNameError\u001b[0m                                 Traceback (most recent call last)",
      "Cell \u001b[1;32mIn[1], line 2\u001b[0m\n\u001b[0;32m      1\u001b[0m file_path \u001b[38;5;241m=\u001b[39m \u001b[38;5;124m'\u001b[39m\u001b[38;5;124mD:\u001b[39m\u001b[38;5;124m\\\u001b[39m\u001b[38;5;124mMasters\u001b[39m\u001b[38;5;124m\\\u001b[39m\u001b[38;5;124mBig Data\u001b[39m\u001b[38;5;124m\\\u001b[39m\u001b[38;5;124mHW2\u001b[39m\u001b[38;5;124m\\\u001b[39m\u001b[38;5;124mMovie_Review_F.csv\u001b[39m\u001b[38;5;124m'\u001b[39m\n\u001b[1;32m----> 2\u001b[0m df \u001b[38;5;241m=\u001b[39m pd\u001b[38;5;241m.\u001b[39mread_csv(file_path)\n",
      "\u001b[1;31mNameError\u001b[0m: name 'pd' is not defined"
     ]
    }
   ],
   "source": [
    "file_path = 'D:\\Masters\\Big Data\\HW2\\Movie_Review_F.csv'\n",
    "df = pd.read_csv(file_path)"
   ]
  },
  {
   "cell_type": "code",
   "execution_count": null,
   "id": "df3377c6-1ab9-4a55-a04a-aea58a87d343",
   "metadata": {},
   "outputs": [],
   "source": []
  }
 ],
 "metadata": {
  "kernelspec": {
   "display_name": "Python 3 (ipykernel)",
   "language": "python",
   "name": "python3"
  },
  "language_info": {
   "codemirror_mode": {
    "name": "ipython",
    "version": 3
   },
   "file_extension": ".py",
   "mimetype": "text/x-python",
   "name": "python",
   "nbconvert_exporter": "python",
   "pygments_lexer": "ipython3",
   "version": "3.11.7"
  }
 },
 "nbformat": 4,
 "nbformat_minor": 5
}
