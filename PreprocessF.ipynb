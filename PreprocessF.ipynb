{
 "cells": [
  {
   "cell_type": "code",
   "execution_count": 1,
   "id": "391aeaa4-4245-488e-bf52-7be75463ebfd",
   "metadata": {},
   "outputs": [],
   "source": [
    "import pandas as pd\n",
    "import os\n",
    "import numpy as np\n",
    "from nltk.corpus import stopwords\n",
    "import nltk\n",
    "import re\n",
    "from dateutil import parser"
   ]
  },
  {
   "cell_type": "code",
   "execution_count": 2,
   "id": "4c6356d1-a1d3-41ce-80d4-604534e4cf29",
   "metadata": {},
   "outputs": [],
   "source": [
    "file_path = r'D:\\Masters\\Big Data\\HW2\\Movie_Reviews_a.csv'\n",
    "df = pd.read_csv(file_path)\n",
    "\n",
    "#nltk.download('stopwords') #dl stop words, remove comments if you dont have it"
   ]
  },
  {
   "cell_type": "code",
   "execution_count": null,
   "id": "8332b603-857b-4531-9fa2-de7f991cdcd3",
   "metadata": {},
   "outputs": [],
   "source": [
    "# remv null values in the 'Rating' column\n",
    "df['Rating'].fillna(0, inplace=True)\n",
    "\n",
    "#blank values in other columns\n",
    "df.replace(r'^\\s*$', np.nan, regex=True, inplace=True)\n",
    "\n",
    "#Remove stopwords from the 'Review' column\n",
    "stop_words = set(stopwords.words('english'))\n",
    "df['Review'] = df['Review'].apply(lambda x: ' '.join([word for word in re.sub(r'[^\\w\\s]', '', str(x)).split() if word.lower() not in stop_words]))\n",
    "\n",
    "df['Title'] = df['Title'].apply(lambda x: ' '.join([word for word in re.sub(r'[^\\w\\s]', '', str(x)).split() if word.lower() not in stop_words]))\n",
    "\n",
    "cleaned_file_path = r'D:\\Masters\\Big Data\\HW2\\Movie_Reviews_Cleaned.csv'\n",
    "\n",
    "df.to_csv(cleaned_file_path, index=False)"
   ]
  },
  {
   "cell_type": "code",
   "execution_count": null,
   "id": "58c81053-52f1-4679-945a-70f8bcd67f67",
   "metadata": {},
   "outputs": [],
   "source": [
    "file_path = r'D:\\Masters\\Big Data\\HW2\\Movie_Reviews_Cleaned.csv'\n",
    "df = pd.read_csv(file_path)\n",
    "\n",
    "df_shuffled = df.sample(frac=1, random_state=7)\n",
    "\n",
    "#Calculate the number of rows to save (X% of total rows)\n",
    "num_rows_to_save = int(len(df_shuffled) * 0.5)\n",
    "\n",
    "#Select the first X% of shuffled rows\n",
    "df_selected = df_shuffled.head(num_rows_to_save)\n",
    "\n",
    "#path to save the new CSV file\n",
    "new_file_path = r'D:\\Masters\\Big Data\\HW2\\Movie_Reviews_Selected.csv'\n",
    "\n",
    "df_selected.to_csv(new_file_path, index=False)"
   ]
  },
  {
   "cell_type": "code",
   "execution_count": null,
   "id": "77cd9637-1d59-438f-96b2-3c84bf9fd682",
   "metadata": {},
   "outputs": [],
   "source": [
    "file_path = 'D:\\Masters\\Big Data\\HW2\\Movie_Review_F.csv'\n",
    "df = pd.read_csv(file_path)"
   ]
  },
  {
   "cell_type": "markdown",
   "id": "bbea206c-b0c1-4e62-8e88-50e7ed6f720d",
   "metadata": {},
   "source": [
    "## CONT"
   ]
  },
  {
   "cell_type": "code",
   "execution_count": null,
   "id": "e9872c03-5b47-42a6-bd05-78c35358eef9",
   "metadata": {},
   "outputs": [],
   "source": [
    "file_path = 'D:\\Masters\\Big Data\\HW2\\Movie_Review_F.csv'\n",
    "df = pd.read_csv(file_path)"
   ]
  },
  {
   "cell_type": "code",
   "execution_count": 3,
   "id": "344ebe51-b127-4d76-a6dd-d55b31cb6aee",
   "metadata": {},
   "outputs": [
    {
     "data": {
      "text/plain": [
       "Index(['Rating', 'Review', 'Review_Date', 'Title'], dtype='object')"
      ]
     },
     "execution_count": 3,
     "metadata": {},
     "output_type": "execute_result"
    }
   ],
   "source": [
    "df.columns"
   ]
  },
  {
   "cell_type": "code",
   "execution_count": 4,
   "id": "b288c75c-4593-4e12-91d9-80599925e7b3",
   "metadata": {},
   "outputs": [
    {
     "data": {
      "text/plain": [
       "<bound method NDFrame.head of         Rating                                             Review Review_Date  \\\n",
       "0            9  thought movie poignant involved relationship l...   3/12/2006   \n",
       "1            7  OK First must make couple points clear America...   1/24/1999   \n",
       "2           10  agree previous reviewer Elia Kazan INDEED knew...   4/22/2023   \n",
       "3            8  leap faith director Dhanush effortless Akshay ...  12/24/2021   \n",
       "4            9  gave 9 10 reasons greatnesses 1 unlimited appr...   7/29/2005   \n",
       "...        ...                                                ...         ...   \n",
       "263796      10  go review compliment Joan Crawford film outsta...   3/31/2021   \n",
       "263797       7   Shape Water definitely unlike film Ive seen year   1/22/2018   \n",
       "263798       6  Taika talented doubt gets point compelling dee...    7/9/2022   \n",
       "263799       0  sexual attraction Fabian Trintignant constantl...  11/28/1998   \n",
       "263800       7  really enjoyed film first pretty confused happ...   12/5/2005   \n",
       "\n",
       "                                                    Title  \n",
       "0           Shopgirl 2005 Shopgirl 2005 User Reviews IMDb  \n",
       "1       English Patient 1996 English Patient 1996 User...  \n",
       "2       Splendor Grass 1961 Splendor Grass 1961 User R...  \n",
       "3             Atrangi 2021 Atrangi 2021 User Reviews IMDb  \n",
       "4         Gone Wind 1939 Gone Wind 1939 User Reviews IMDb  \n",
       "...                                                   ...  \n",
       "263796  Mildred Pierce 1945 Mildred Pierce 1945 User R...  \n",
       "263797  Shape Water 2017 Shape Water 2017 User Reviews...  \n",
       "263798  Thor Love Thunder 2022 Thor Love Thunder 2022 ...  \n",
       "263799  Night Mauds 1969 Night Mauds 1969 User Reviews...  \n",
       "263800  Wicker Park 2004 Wicker Park 2004 User Reviews...  \n",
       "\n",
       "[263801 rows x 4 columns]>"
      ]
     },
     "execution_count": 4,
     "metadata": {},
     "output_type": "execute_result"
    }
   ],
   "source": [
    "df.head"
   ]
  },
  {
   "cell_type": "code",
   "execution_count": 9,
   "id": "90055103-c25a-4610-a570-8bc3441cfb98",
   "metadata": {},
   "outputs": [
    {
     "data": {
      "text/plain": [
       "0             Shopgirl 2005 Shopgirl 2005 User Reviews IMDb\n",
       "1         English Patient 1996 English Patient 1996 User...\n",
       "2         Splendor Grass 1961 Splendor Grass 1961 User R...\n",
       "3               Atrangi 2021 Atrangi 2021 User Reviews IMDb\n",
       "4           Gone Wind 1939 Gone Wind 1939 User Reviews IMDb\n",
       "                                ...                        \n",
       "263796    Mildred Pierce 1945 Mildred Pierce 1945 User R...\n",
       "263797    Shape Water 2017 Shape Water 2017 User Reviews...\n",
       "263798    Thor Love Thunder 2022 Thor Love Thunder 2022 ...\n",
       "263799    Night Mauds 1969 Night Mauds 1969 User Reviews...\n",
       "263800    Wicker Park 2004 Wicker Park 2004 User Reviews...\n",
       "Name: Title, Length: 263801, dtype: object"
      ]
     },
     "execution_count": 9,
     "metadata": {},
     "output_type": "execute_result"
    }
   ],
   "source": [
    "df.Title"
   ]
  },
  {
   "cell_type": "code",
   "execution_count": 5,
   "id": "2065994b-2980-4b68-bc73-5f6220601baa",
   "metadata": {},
   "outputs": [],
   "source": [
    "def parse_date(date_str):\n",
    "    try:\n",
    "        return parser.parse(date_str)\n",
    "    except ValueError:\n",
    "        return None\n",
    "\n",
    "# Parse the dates and handle inconsistent formats\n",
    "df['Review_Date'] = df['Review_Date'].apply(parse_date)"
   ]
  },
  {
   "cell_type": "code",
   "execution_count": 6,
   "id": "28075efa-1882-4dae-a863-5cf657112cb2",
   "metadata": {},
   "outputs": [],
   "source": [
    "df = df.dropna(subset=['Review_Date'])\n",
    "\n",
    "# Extract day, month, and year\n",
    "df['Year'] = df['Review_Date'].dt.year\n"
   ]
  },
  {
   "cell_type": "code",
   "execution_count": 7,
   "id": "6aa0da3b-c4be-4471-84cb-dc78d10fc7a5",
   "metadata": {},
   "outputs": [],
   "source": [
    "df['Review'] = df['Review'].fillna('No review')"
   ]
  },
  {
   "cell_type": "code",
   "execution_count": 8,
   "id": "39373c91-1e43-450e-990d-a2c0947f6858",
   "metadata": {},
   "outputs": [
    {
     "name": "stdout",
     "output_type": "stream",
     "text": [
      "Updated CSV with parsed dates written to ./Movie_Review.csv\n"
     ]
    }
   ],
   "source": [
    "output_file = './Movie_Review.csv'\n",
    "df.to_csv(output_file, index=False)\n",
    "\n",
    "print(f\"Updated CSV with parsed dates written to {output_file}\")"
   ]
  },
  {
   "cell_type": "code",
   "execution_count": null,
   "id": "aa1df5a0-1774-4490-ad83-18d13efe5582",
   "metadata": {},
   "outputs": [],
   "source": []
  }
 ],
 "metadata": {
  "kernelspec": {
   "display_name": "Python 3 (ipykernel)",
   "language": "python",
   "name": "python3"
  },
  "language_info": {
   "codemirror_mode": {
    "name": "ipython",
    "version": 3
   },
   "file_extension": ".py",
   "mimetype": "text/x-python",
   "name": "python",
   "nbconvert_exporter": "python",
   "pygments_lexer": "ipython3",
   "version": "3.11.7"
  }
 },
 "nbformat": 4,
 "nbformat_minor": 5
}
